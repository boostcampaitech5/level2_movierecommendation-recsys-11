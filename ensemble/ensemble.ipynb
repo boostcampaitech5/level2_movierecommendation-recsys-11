{
 "cells": [
  {
   "cell_type": "code",
   "execution_count": 6,
   "metadata": {},
   "outputs": [],
   "source": [
    "import pandas as pd\n",
    "\n",
    "# 모델 예측 결과 데이터프레임\n",
    "ADMMSLIM = pd.read_csv('ADMMSLIM_1546.csv')\n",
    "EASE1 = pd.read_csv('EASE_1594.csv')\n",
    "EASE1_20 = pd.read_csv('EASE_1594_20.csv')\n",
    "EASE2 = pd.read_csv('EASE_1574.csv')\n",
    "EASE3 = pd.read_csv('EASE_seed4948_lambda500.csv')\n",
    "MultiDAE = pd.read_csv('MultiDAE_1024.csv')\n",
    "MultiVAE = pd.read_csv('MultiVAE_1401.csv')\n",
    "RecVAE1 = pd.read_csv('RecVAE_1514.csv')\n",
    "RecVAE1_20 = pd.read_csv('RecVAE_1514_20.csv')\n",
    "RecVAE2 = pd.read_csv('RecVAE_1510.csv')\n",
    "RaCT = pd.read_csv('RaCT_1327.csv')\n",
    "RaCT_20 = pd.read_csv('RaCT_1327_20.csv')\n",
    "S3Rec = pd.read_csv('S3Rec_0884.csv')\n",
    "\n",
    "##### Top 11~15 #####\n",
    "RecVAE1_1_15_ = RecVAE1_20.groupby('user').apply(lambda x: x.iloc[:15])\n",
    "RecVAE1_1_15_ = RecVAE1_1_15_.reset_index(drop=True)\n",
    "RecVAE1_11_15_ = RecVAE1_20.groupby('user').apply(lambda x: x.iloc[11:15])\n",
    "RecVAE1_11_15_ = RecVAE1_11_15_.reset_index(drop=True)\n",
    "\n",
    "\n",
    "EASE1_1_15_ = EASE1_20.groupby('user').apply(lambda x: x.iloc[:15])\n",
    "EASE1_1_15_ = EASE1_1_15_.reset_index(drop=True)\n",
    "EASE1_11_15_ = EASE1_20.groupby('user').apply(lambda x: x.iloc[11:15])\n",
    "EASE1_11_15_ = EASE1_11_15_.reset_index(drop=True)\n",
    "\n",
    "RaCT_1_15_ = RaCT_20.groupby('user').apply(lambda x: x.iloc[:15])\n",
    "RaCT_1_15_ = RaCT_1_15_.reset_index(drop=True)\n",
    "RaCT_11_15_ = RaCT_20.groupby('user').apply(lambda x: x.iloc[11:15])\n",
    "RaCT_11_15_ = RaCT_11_15_.reset_index(drop=True)\n",
    "#####################\n",
    "\n",
    "\n",
    "# 모델 예측 결과 데이터프레임들을 리스트로 저장\n",
    "predictions = [EASE1, EASE1.copy(), EASE2, ADMMSLIM, ADMMSLIM.copy(), MultiVAE, RecVAE1, RecVAE1.copy(), RaCT, S3Rec]\n",
    "\n",
    "# 모든 예측 결과를 하나의 데이터프레임으로 병합\n",
    "merged_df = pd.concat(predictions)\n",
    "\n",
    "# 각 아이템의 빈도를 계산하여 상위 10개 아이템을 추출\n",
    "top_items = merged_df.groupby(['user', 'item']).size().reset_index(name='freq') \\\n",
    "            .groupby('user').apply(lambda x: x.nlargest(10, 'freq')).reset_index(drop=True)\n",
    "\n",
    "# 결과 데이터프레임 출력\n",
    "top_items[['user', 'item']].to_csv('ensemble.csv', index=False)"
   ]
  },
  {
   "cell_type": "code",
   "execution_count": null,
   "metadata": {},
   "outputs": [],
   "source": []
  }
 ],
 "metadata": {
  "kernelspec": {
   "display_name": "base",
   "language": "python",
   "name": "python3"
  },
  "language_info": {
   "codemirror_mode": {
    "name": "ipython",
    "version": 3
   },
   "file_extension": ".py",
   "mimetype": "text/x-python",
   "name": "python",
   "nbconvert_exporter": "python",
   "pygments_lexer": "ipython3",
   "version": "3.8.5"
  },
  "orig_nbformat": 4
 },
 "nbformat": 4,
 "nbformat_minor": 2
}
