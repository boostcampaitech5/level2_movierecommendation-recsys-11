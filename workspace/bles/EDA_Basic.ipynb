{
 "cells": [
  {
   "attachments": {},
   "cell_type": "markdown",
   "metadata": {},
   "source": [
    "## File\n",
    "\n",
    "1. train_ratings.csv\n",
    "2. directors.tsv\n",
    "3. genres.tsv\n",
    "4. titles.tsv\n",
    "5. writers.tsv\n",
    "6. years.tsv\n"
   ]
  },
  {
   "cell_type": "code",
   "execution_count": 1,
   "metadata": {},
   "outputs": [],
   "source": [
    "import pandas as pd\n",
    "import numpy as np\n",
    "import matplotlib.pyplot as plt\n",
    "import seaborn as sns\n",
    "import os\n",
    "\n",
    "data_path = './data/train/'"
   ]
  },
  {
   "attachments": {},
   "cell_type": "markdown",
   "metadata": {},
   "source": [
    "### train_ratings.csv"
   ]
  },
  {
   "cell_type": "code",
   "execution_count": 2,
   "metadata": {},
   "outputs": [
    {
     "name": "stdout",
     "output_type": "stream",
     "text": [
      "<class 'pandas.core.frame.DataFrame'>\n",
      "RangeIndex: 5154471 entries, 0 to 5154470\n",
      "Data columns (total 3 columns):\n",
      " #   Column  Dtype\n",
      "---  ------  -----\n",
      " 0   user    int64\n",
      " 1   item    int64\n",
      " 2   time    int64\n",
      "dtypes: int64(3)\n",
      "memory usage: 118.0 MB\n"
     ]
    }
   ],
   "source": [
    "train_df = pd.read_csv(os.path.join(data_path, 'train_ratings.csv'))\n",
    "train_df.info()"
   ]
  },
  {
   "cell_type": "code",
   "execution_count": 3,
   "metadata": {},
   "outputs": [
    {
     "data": {
      "text/html": [
       "<div>\n",
       "<style scoped>\n",
       "    .dataframe tbody tr th:only-of-type {\n",
       "        vertical-align: middle;\n",
       "    }\n",
       "\n",
       "    .dataframe tbody tr th {\n",
       "        vertical-align: top;\n",
       "    }\n",
       "\n",
       "    .dataframe thead th {\n",
       "        text-align: right;\n",
       "    }\n",
       "</style>\n",
       "<table border=\"1\" class=\"dataframe\">\n",
       "  <thead>\n",
       "    <tr style=\"text-align: right;\">\n",
       "      <th></th>\n",
       "      <th>user</th>\n",
       "      <th>item</th>\n",
       "      <th>time</th>\n",
       "    </tr>\n",
       "  </thead>\n",
       "  <tbody>\n",
       "    <tr>\n",
       "      <th>0</th>\n",
       "      <td>11</td>\n",
       "      <td>4643</td>\n",
       "      <td>1230782529</td>\n",
       "    </tr>\n",
       "    <tr>\n",
       "      <th>1</th>\n",
       "      <td>11</td>\n",
       "      <td>170</td>\n",
       "      <td>1230782534</td>\n",
       "    </tr>\n",
       "    <tr>\n",
       "      <th>2</th>\n",
       "      <td>11</td>\n",
       "      <td>531</td>\n",
       "      <td>1230782539</td>\n",
       "    </tr>\n",
       "    <tr>\n",
       "      <th>3</th>\n",
       "      <td>11</td>\n",
       "      <td>616</td>\n",
       "      <td>1230782542</td>\n",
       "    </tr>\n",
       "    <tr>\n",
       "      <th>4</th>\n",
       "      <td>11</td>\n",
       "      <td>2140</td>\n",
       "      <td>1230782563</td>\n",
       "    </tr>\n",
       "  </tbody>\n",
       "</table>\n",
       "</div>"
      ],
      "text/plain": [
       "   user  item        time\n",
       "0    11  4643  1230782529\n",
       "1    11   170  1230782534\n",
       "2    11   531  1230782539\n",
       "3    11   616  1230782542\n",
       "4    11  2140  1230782563"
      ]
     },
     "execution_count": 3,
     "metadata": {},
     "output_type": "execute_result"
    }
   ],
   "source": [
    "train_df.head()"
   ]
  },
  {
   "cell_type": "code",
   "execution_count": 4,
   "metadata": {},
   "outputs": [
    {
     "name": "stdout",
     "output_type": "stream",
     "text": [
      "NULL 확인\n",
      "user    0\n",
      "item    0\n",
      "time    0\n",
      "dtype: int64\n",
      "---------------------------------------\n",
      "Shape 확인\n",
      "(5154471, 3)\n",
      "---------------------------------------\n",
      "unique 확인\n",
      "user: [11 14 18 25 31 35 43 50 58 60]\n",
      "item: [4643  170  531  616 2140 2722 2313 2688 2428 3113]\n",
      "time: [1230782529 1230782534 1230782539 1230782542 1230782563 1230782583\n",
      " 1230782646 1230782656 1230782694 1230782719]\n",
      "---------------------------------------\n",
      "nunique 확인\n",
      "user: 31360\n",
      "item: 6807\n",
      "time: 5074973\n"
     ]
    }
   ],
   "source": [
    "# NULL 확인\n",
    "print('NULL 확인')\n",
    "print(train_df.isnull().sum())\n",
    "print('---------------------------------------')\n",
    "# Shape: (5154471, 3)\n",
    "print('Shape 확인')\n",
    "print(train_df.shape)\n",
    "print('---------------------------------------')\n",
    "# unique 확인\n",
    "print('unique 확인')\n",
    "print(f\"user: {train_df['user'].unique()[:10]}\")\n",
    "print(f\"item: {train_df['item'].unique()[:10]}\")\n",
    "print(f\"time: {train_df['time'].unique()[:10]}\")\n",
    "print('---------------------------------------')\n",
    "# unique 확인\n",
    "print('nunique 확인')\n",
    "print(f\"user: {train_df['user'].nunique()}\")\n",
    "print(f\"item: {train_df['item'].nunique()}\")\n",
    "print(f\"time: {train_df['time'].nunique()}\")"
   ]
  },
  {
   "attachments": {},
   "cell_type": "markdown",
   "metadata": {},
   "source": [
    "### directors.tsv\n",
    "\n",
    "- 한 감독이 여러 작품을 할 수 있으므로, 행 개수와 director의 unique값이 상이하다.\n",
    "- 감독 정보가 없는 작품이 꽤 있음 (6807 - 5905 = 902개)"
   ]
  },
  {
   "cell_type": "code",
   "execution_count": 5,
   "metadata": {},
   "outputs": [
    {
     "name": "stdout",
     "output_type": "stream",
     "text": [
      "<class 'pandas.core.frame.DataFrame'>\n",
      "RangeIndex: 5905 entries, 0 to 5904\n",
      "Data columns (total 2 columns):\n",
      " #   Column    Non-Null Count  Dtype \n",
      "---  ------    --------------  ----- \n",
      " 0   item      5905 non-null   int64 \n",
      " 1   director  5905 non-null   object\n",
      "dtypes: int64(1), object(1)\n",
      "memory usage: 92.4+ KB\n"
     ]
    }
   ],
   "source": [
    "directors_df = pd.read_csv(os.path.join(data_path, 'directors.tsv'), sep='\\t')\n",
    "directors_df.info()"
   ]
  },
  {
   "cell_type": "code",
   "execution_count": 6,
   "metadata": {},
   "outputs": [
    {
     "data": {
      "text/html": [
       "<div>\n",
       "<style scoped>\n",
       "    .dataframe tbody tr th:only-of-type {\n",
       "        vertical-align: middle;\n",
       "    }\n",
       "\n",
       "    .dataframe tbody tr th {\n",
       "        vertical-align: top;\n",
       "    }\n",
       "\n",
       "    .dataframe thead th {\n",
       "        text-align: right;\n",
       "    }\n",
       "</style>\n",
       "<table border=\"1\" class=\"dataframe\">\n",
       "  <thead>\n",
       "    <tr style=\"text-align: right;\">\n",
       "      <th></th>\n",
       "      <th>item</th>\n",
       "      <th>director</th>\n",
       "    </tr>\n",
       "  </thead>\n",
       "  <tbody>\n",
       "    <tr>\n",
       "      <th>0</th>\n",
       "      <td>1237</td>\n",
       "      <td>nm0000005</td>\n",
       "    </tr>\n",
       "    <tr>\n",
       "      <th>1</th>\n",
       "      <td>5147</td>\n",
       "      <td>nm0000005</td>\n",
       "    </tr>\n",
       "    <tr>\n",
       "      <th>2</th>\n",
       "      <td>7327</td>\n",
       "      <td>nm0000005</td>\n",
       "    </tr>\n",
       "    <tr>\n",
       "      <th>3</th>\n",
       "      <td>2068</td>\n",
       "      <td>nm0000005</td>\n",
       "    </tr>\n",
       "    <tr>\n",
       "      <th>4</th>\n",
       "      <td>7396</td>\n",
       "      <td>nm0000005</td>\n",
       "    </tr>\n",
       "  </tbody>\n",
       "</table>\n",
       "</div>"
      ],
      "text/plain": [
       "   item   director\n",
       "0  1237  nm0000005\n",
       "1  5147  nm0000005\n",
       "2  7327  nm0000005\n",
       "3  2068  nm0000005\n",
       "4  7396  nm0000005"
      ]
     },
     "execution_count": 6,
     "metadata": {},
     "output_type": "execute_result"
    }
   ],
   "source": [
    "directors_df.head()"
   ]
  },
  {
   "cell_type": "code",
   "execution_count": 7,
   "metadata": {},
   "outputs": [
    {
     "name": "stdout",
     "output_type": "stream",
     "text": [
      "NULL 확인\n",
      "item        0\n",
      "director    0\n",
      "dtype: int64\n",
      "---------------------------------------\n",
      "Shape 확인\n",
      "(5905, 2)\n",
      "---------------------------------------\n",
      "unique 확인\n",
      "item: [1237 5147 7327 2068 7396 7820 4422 7939 7938 7941]\n",
      "director: ['nm0000005' 'nm0000019' 'nm0000033' 'nm0000036' 'nm0000037' 'nm0000040'\n",
      " 'nm0000041' 'nm0000045' 'nm0000059' 'nm0000076']\n",
      "---------------------------------------\n",
      "nunique 확인\n",
      "item: 5503\n",
      "director: 1340\n"
     ]
    }
   ],
   "source": [
    "# NULL 확인: 없음\n",
    "print('NULL 확인')\n",
    "print(directors_df.isnull().sum())\n",
    "print('---------------------------------------')\n",
    "# Shape: (5905, 2)\n",
    "print('Shape 확인')\n",
    "print(directors_df.shape)\n",
    "print('---------------------------------------')\n",
    "# unique 확인\n",
    "print('unique 확인')\n",
    "print(f\"item: {directors_df['item'].unique()[:10]}\")\n",
    "print(f\"director: {directors_df['director'].unique()[:10]}\")\n",
    "print('---------------------------------------')\n",
    "# unique 확인\n",
    "print('nunique 확인')\n",
    "print(f\"item: {directors_df['item'].nunique()}\")\n",
    "print(f\"director: {directors_df['director'].nunique()}\")"
   ]
  },
  {
   "attachments": {},
   "cell_type": "markdown",
   "metadata": {},
   "source": [
    "### genres.tsv\n",
    "\n",
    "- 한 장르에 여러 작품이 포함될 수 있으므로, 행 개수와 genre의 unique값이 상이하다."
   ]
  },
  {
   "cell_type": "code",
   "execution_count": 8,
   "metadata": {},
   "outputs": [
    {
     "name": "stdout",
     "output_type": "stream",
     "text": [
      "<class 'pandas.core.frame.DataFrame'>\n",
      "RangeIndex: 15933 entries, 0 to 15932\n",
      "Data columns (total 2 columns):\n",
      " #   Column  Non-Null Count  Dtype \n",
      "---  ------  --------------  ----- \n",
      " 0   item    15933 non-null  int64 \n",
      " 1   genre   15933 non-null  object\n",
      "dtypes: int64(1), object(1)\n",
      "memory usage: 249.1+ KB\n"
     ]
    }
   ],
   "source": [
    "genres_df = pd.read_csv(os.path.join(data_path, 'genres.tsv'), sep='\\t')\n",
    "genres_df.info()"
   ]
  },
  {
   "cell_type": "code",
   "execution_count": 9,
   "metadata": {},
   "outputs": [
    {
     "data": {
      "text/html": [
       "<div>\n",
       "<style scoped>\n",
       "    .dataframe tbody tr th:only-of-type {\n",
       "        vertical-align: middle;\n",
       "    }\n",
       "\n",
       "    .dataframe tbody tr th {\n",
       "        vertical-align: top;\n",
       "    }\n",
       "\n",
       "    .dataframe thead th {\n",
       "        text-align: right;\n",
       "    }\n",
       "</style>\n",
       "<table border=\"1\" class=\"dataframe\">\n",
       "  <thead>\n",
       "    <tr style=\"text-align: right;\">\n",
       "      <th></th>\n",
       "      <th>item</th>\n",
       "      <th>genre</th>\n",
       "    </tr>\n",
       "  </thead>\n",
       "  <tbody>\n",
       "    <tr>\n",
       "      <th>0</th>\n",
       "      <td>318</td>\n",
       "      <td>Crime</td>\n",
       "    </tr>\n",
       "    <tr>\n",
       "      <th>1</th>\n",
       "      <td>318</td>\n",
       "      <td>Drama</td>\n",
       "    </tr>\n",
       "    <tr>\n",
       "      <th>2</th>\n",
       "      <td>2571</td>\n",
       "      <td>Action</td>\n",
       "    </tr>\n",
       "    <tr>\n",
       "      <th>3</th>\n",
       "      <td>2571</td>\n",
       "      <td>Sci-Fi</td>\n",
       "    </tr>\n",
       "    <tr>\n",
       "      <th>4</th>\n",
       "      <td>2571</td>\n",
       "      <td>Thriller</td>\n",
       "    </tr>\n",
       "  </tbody>\n",
       "</table>\n",
       "</div>"
      ],
      "text/plain": [
       "   item     genre\n",
       "0   318     Crime\n",
       "1   318     Drama\n",
       "2  2571    Action\n",
       "3  2571    Sci-Fi\n",
       "4  2571  Thriller"
      ]
     },
     "execution_count": 9,
     "metadata": {},
     "output_type": "execute_result"
    }
   ],
   "source": [
    "genres_df.head()"
   ]
  },
  {
   "cell_type": "code",
   "execution_count": 10,
   "metadata": {},
   "outputs": [
    {
     "name": "stdout",
     "output_type": "stream",
     "text": [
      "NULL 확인\n",
      "item     0\n",
      "genre    0\n",
      "dtype: int64\n",
      "---------------------------------------\n",
      "Shape 확인\n",
      "(15933, 2)\n",
      "---------------------------------------\n",
      "unique 확인\n",
      "item: [ 318 2571 2959  296  356 4993 7153 5952  593 2858]\n",
      "genre: ['Crime' 'Drama' 'Action' 'Sci-Fi' 'Thriller' 'Comedy' 'Romance' 'War'\n",
      " 'Adventure' 'Fantasy']\n",
      "---------------------------------------\n",
      "nunique 확인\n",
      "item: 6807\n",
      "genre: 18\n"
     ]
    }
   ],
   "source": [
    "# NULL 확인: 없음\n",
    "print('NULL 확인')\n",
    "print(genres_df.isnull().sum())\n",
    "print('---------------------------------------')\n",
    "# Shape: (15933, 2)\n",
    "print('Shape 확인')\n",
    "print(genres_df.shape)\n",
    "print('---------------------------------------')\n",
    "# unique 확인\n",
    "print('unique 확인')\n",
    "print(f\"item: {genres_df['item'].unique()[:10]}\")\n",
    "print(f\"genre: {genres_df['genre'].unique()[:10]}\")\n",
    "print('---------------------------------------')\n",
    "# unique 확인\n",
    "print('nunique 확인')\n",
    "print(f\"item: {genres_df['item'].nunique()}\")\n",
    "print(f\"genre: {genres_df['genre'].nunique()}\")"
   ]
  },
  {
   "attachments": {},
   "cell_type": "markdown",
   "metadata": {},
   "source": [
    "### titles.tsv\n",
    "\n",
    "- item은 다른데 title은 동일한 중복 타이틀 1개 존재 \"War of the Worlds (2005)\""
   ]
  },
  {
   "cell_type": "code",
   "execution_count": 11,
   "metadata": {},
   "outputs": [
    {
     "name": "stdout",
     "output_type": "stream",
     "text": [
      "<class 'pandas.core.frame.DataFrame'>\n",
      "RangeIndex: 6807 entries, 0 to 6806\n",
      "Data columns (total 2 columns):\n",
      " #   Column  Non-Null Count  Dtype \n",
      "---  ------  --------------  ----- \n",
      " 0   item    6807 non-null   int64 \n",
      " 1   title   6807 non-null   object\n",
      "dtypes: int64(1), object(1)\n",
      "memory usage: 106.5+ KB\n"
     ]
    }
   ],
   "source": [
    "titles_df = pd.read_csv(os.path.join(data_path, 'titles.tsv'), sep='\\t')\n",
    "titles_df.info()"
   ]
  },
  {
   "cell_type": "code",
   "execution_count": 12,
   "metadata": {},
   "outputs": [
    {
     "data": {
      "text/html": [
       "<div>\n",
       "<style scoped>\n",
       "    .dataframe tbody tr th:only-of-type {\n",
       "        vertical-align: middle;\n",
       "    }\n",
       "\n",
       "    .dataframe tbody tr th {\n",
       "        vertical-align: top;\n",
       "    }\n",
       "\n",
       "    .dataframe thead th {\n",
       "        text-align: right;\n",
       "    }\n",
       "</style>\n",
       "<table border=\"1\" class=\"dataframe\">\n",
       "  <thead>\n",
       "    <tr style=\"text-align: right;\">\n",
       "      <th></th>\n",
       "      <th>item</th>\n",
       "      <th>title</th>\n",
       "    </tr>\n",
       "  </thead>\n",
       "  <tbody>\n",
       "    <tr>\n",
       "      <th>0</th>\n",
       "      <td>318</td>\n",
       "      <td>Shawshank Redemption, The (1994)</td>\n",
       "    </tr>\n",
       "    <tr>\n",
       "      <th>1</th>\n",
       "      <td>2571</td>\n",
       "      <td>Matrix, The (1999)</td>\n",
       "    </tr>\n",
       "    <tr>\n",
       "      <th>2</th>\n",
       "      <td>2959</td>\n",
       "      <td>Fight Club (1999)</td>\n",
       "    </tr>\n",
       "    <tr>\n",
       "      <th>3</th>\n",
       "      <td>296</td>\n",
       "      <td>Pulp Fiction (1994)</td>\n",
       "    </tr>\n",
       "    <tr>\n",
       "      <th>4</th>\n",
       "      <td>356</td>\n",
       "      <td>Forrest Gump (1994)</td>\n",
       "    </tr>\n",
       "  </tbody>\n",
       "</table>\n",
       "</div>"
      ],
      "text/plain": [
       "   item                             title\n",
       "0   318  Shawshank Redemption, The (1994)\n",
       "1  2571                Matrix, The (1999)\n",
       "2  2959                 Fight Club (1999)\n",
       "3   296               Pulp Fiction (1994)\n",
       "4   356               Forrest Gump (1994)"
      ]
     },
     "execution_count": 12,
     "metadata": {},
     "output_type": "execute_result"
    }
   ],
   "source": [
    "titles_df.head()"
   ]
  },
  {
   "cell_type": "code",
   "execution_count": 13,
   "metadata": {},
   "outputs": [
    {
     "name": "stdout",
     "output_type": "stream",
     "text": [
      "NULL 확인\n",
      "item     0\n",
      "title    0\n",
      "dtype: int64\n",
      "---------------------------------------\n",
      "Shape 확인\n",
      "(6807, 2)\n",
      "---------------------------------------\n",
      "unique 확인\n",
      "item: [ 318 2571 2959  296  356 4993 7153 5952  593 2858]\n",
      "title: ['Shawshank Redemption, The (1994)' 'Matrix, The (1999)'\n",
      " 'Fight Club (1999)' 'Pulp Fiction (1994)' 'Forrest Gump (1994)'\n",
      " 'Lord of the Rings: The Fellowship of the Ring, The (2001)'\n",
      " 'Lord of the Rings: The Return of the King, The (2003)'\n",
      " 'Lord of the Rings: The Two Towers, The (2002)'\n",
      " 'Silence of the Lambs, The (1991)' 'American Beauty (1999)']\n",
      "---------------------------------------\n",
      "nunique 확인\n",
      "item: 6807\n",
      "title: 6806\n"
     ]
    }
   ],
   "source": [
    "# NULL 확인: 없음\n",
    "print('NULL 확인')\n",
    "print(titles_df.isnull().sum())\n",
    "print('---------------------------------------')\n",
    "# Shape: (6807, 2)\n",
    "print('Shape 확인')\n",
    "print(titles_df.shape)\n",
    "print('---------------------------------------')\n",
    "# unique 확인\n",
    "print('unique 확인')\n",
    "print(f\"item: {titles_df['item'].unique()[:10]}\")\n",
    "print(f\"title: {titles_df['title'].unique()[:10]}\")\n",
    "print('---------------------------------------')\n",
    "# unique 확인\n",
    "print('nunique 확인')\n",
    "print(f\"item: {titles_df['item'].nunique()}\")\n",
    "print(f\"title: {titles_df['title'].nunique()}\")"
   ]
  },
  {
   "cell_type": "code",
   "execution_count": 14,
   "metadata": {},
   "outputs": [
    {
     "data": {
      "text/html": [
       "<div>\n",
       "<style scoped>\n",
       "    .dataframe tbody tr th:only-of-type {\n",
       "        vertical-align: middle;\n",
       "    }\n",
       "\n",
       "    .dataframe tbody tr th {\n",
       "        vertical-align: top;\n",
       "    }\n",
       "\n",
       "    .dataframe thead th {\n",
       "        text-align: right;\n",
       "    }\n",
       "</style>\n",
       "<table border=\"1\" class=\"dataframe\">\n",
       "  <thead>\n",
       "    <tr style=\"text-align: right;\">\n",
       "      <th></th>\n",
       "      <th>item</th>\n",
       "      <th>title</th>\n",
       "    </tr>\n",
       "  </thead>\n",
       "  <tbody>\n",
       "    <tr>\n",
       "      <th>349</th>\n",
       "      <td>34048</td>\n",
       "      <td>War of the Worlds (2005)</td>\n",
       "    </tr>\n",
       "    <tr>\n",
       "      <th>1926</th>\n",
       "      <td>64997</td>\n",
       "      <td>War of the Worlds (2005)</td>\n",
       "    </tr>\n",
       "  </tbody>\n",
       "</table>\n",
       "</div>"
      ],
      "text/plain": [
       "       item                     title\n",
       "349   34048  War of the Worlds (2005)\n",
       "1926  64997  War of the Worlds (2005)"
      ]
     },
     "execution_count": 14,
     "metadata": {},
     "output_type": "execute_result"
    }
   ],
   "source": [
    "titles_df[titles_df['title'].duplicated(keep=False)]"
   ]
  },
  {
   "attachments": {},
   "cell_type": "markdown",
   "metadata": {},
   "source": [
    "### writers.tsv\n",
    "\n",
    "- 작가 정보가 없는 작품이 꽤 있음 (6807 - 5648 = 1157개)\n",
    "- writer 모두 'nm'으로 시작"
   ]
  },
  {
   "cell_type": "code",
   "execution_count": 15,
   "metadata": {},
   "outputs": [
    {
     "name": "stdout",
     "output_type": "stream",
     "text": [
      "<class 'pandas.core.frame.DataFrame'>\n",
      "RangeIndex: 11306 entries, 0 to 11305\n",
      "Data columns (total 2 columns):\n",
      " #   Column  Non-Null Count  Dtype \n",
      "---  ------  --------------  ----- \n",
      " 0   item    11306 non-null  int64 \n",
      " 1   writer  11306 non-null  object\n",
      "dtypes: int64(1), object(1)\n",
      "memory usage: 176.8+ KB\n"
     ]
    }
   ],
   "source": [
    "writers_df = pd.read_csv(os.path.join(data_path, 'writers.tsv'), sep='\\t')\n",
    "writers_df.info()"
   ]
  },
  {
   "cell_type": "code",
   "execution_count": 16,
   "metadata": {},
   "outputs": [
    {
     "data": {
      "text/html": [
       "<div>\n",
       "<style scoped>\n",
       "    .dataframe tbody tr th:only-of-type {\n",
       "        vertical-align: middle;\n",
       "    }\n",
       "\n",
       "    .dataframe tbody tr th {\n",
       "        vertical-align: top;\n",
       "    }\n",
       "\n",
       "    .dataframe thead th {\n",
       "        text-align: right;\n",
       "    }\n",
       "</style>\n",
       "<table border=\"1\" class=\"dataframe\">\n",
       "  <thead>\n",
       "    <tr style=\"text-align: right;\">\n",
       "      <th></th>\n",
       "      <th>item</th>\n",
       "      <th>writer</th>\n",
       "    </tr>\n",
       "  </thead>\n",
       "  <tbody>\n",
       "    <tr>\n",
       "      <th>0</th>\n",
       "      <td>1237</td>\n",
       "      <td>nm0000005</td>\n",
       "    </tr>\n",
       "    <tr>\n",
       "      <th>1</th>\n",
       "      <td>5147</td>\n",
       "      <td>nm0000005</td>\n",
       "    </tr>\n",
       "    <tr>\n",
       "      <th>2</th>\n",
       "      <td>7327</td>\n",
       "      <td>nm0000005</td>\n",
       "    </tr>\n",
       "    <tr>\n",
       "      <th>3</th>\n",
       "      <td>2068</td>\n",
       "      <td>nm0000005</td>\n",
       "    </tr>\n",
       "    <tr>\n",
       "      <th>4</th>\n",
       "      <td>7396</td>\n",
       "      <td>nm0000005</td>\n",
       "    </tr>\n",
       "  </tbody>\n",
       "</table>\n",
       "</div>"
      ],
      "text/plain": [
       "   item     writer\n",
       "0  1237  nm0000005\n",
       "1  5147  nm0000005\n",
       "2  7327  nm0000005\n",
       "3  2068  nm0000005\n",
       "4  7396  nm0000005"
      ]
     },
     "execution_count": 16,
     "metadata": {},
     "output_type": "execute_result"
    }
   ],
   "source": [
    "writers_df.head()"
   ]
  },
  {
   "cell_type": "code",
   "execution_count": 17,
   "metadata": {},
   "outputs": [
    {
     "name": "stdout",
     "output_type": "stream",
     "text": [
      "NULL 확인\n",
      "item      0\n",
      "writer    0\n",
      "dtype: int64\n",
      "---------------------------------------\n",
      "Shape 확인\n",
      "(11306, 2)\n",
      "---------------------------------------\n",
      "unique 확인\n",
      "item: [1237 5147 7327 2068 7396 4422 7939 7938 7941 7937]\n",
      "writer: ['nm0000005' 'nm0000019' 'nm0000033' 'nm0000036' 'nm0000040' 'nm0000041'\n",
      " 'nm0000045' 'nm0000059' 'nm0000076' 'nm0000080']\n",
      "---------------------------------------\n",
      "nunique 확인\n",
      "item: 5648\n",
      "writer: 2989\n"
     ]
    }
   ],
   "source": [
    "# NULL 확인: 없음\n",
    "print('NULL 확인')\n",
    "print(writers_df.isnull().sum())\n",
    "print('---------------------------------------')\n",
    "# Shape: (11306, 2)\n",
    "print('Shape 확인')\n",
    "print(writers_df.shape)\n",
    "print('---------------------------------------')\n",
    "# unique 확인\n",
    "print('unique 확인')\n",
    "print(f\"item: {writers_df['item'].unique()[:10]}\")\n",
    "print(f\"writer: {writers_df['writer'].unique()[:10]}\")\n",
    "print('---------------------------------------')\n",
    "# unique 확인\n",
    "print('nunique 확인')\n",
    "print(f\"item: {writers_df['item'].nunique()}\")\n",
    "print(f\"writer: {writers_df['writer'].nunique()}\")"
   ]
  },
  {
   "cell_type": "code",
   "execution_count": 18,
   "metadata": {},
   "outputs": [
    {
     "data": {
      "text/plain": [
       "array(['nm'], dtype=object)"
      ]
     },
     "execution_count": 18,
     "metadata": {},
     "output_type": "execute_result"
    }
   ],
   "source": [
    "# 작가명 모두 'nm'으로 시작\n",
    "writers_df['writer'].str[:2].unique()"
   ]
  },
  {
   "attachments": {},
   "cell_type": "markdown",
   "metadata": {},
   "source": [
    "### years.tsv\n",
    "\n",
    "- 연도 정보가 없는 작품이 극소수 있음 (6807 - 6799 = 8개)"
   ]
  },
  {
   "cell_type": "code",
   "execution_count": 19,
   "metadata": {},
   "outputs": [
    {
     "name": "stdout",
     "output_type": "stream",
     "text": [
      "<class 'pandas.core.frame.DataFrame'>\n",
      "RangeIndex: 6799 entries, 0 to 6798\n",
      "Data columns (total 2 columns):\n",
      " #   Column  Non-Null Count  Dtype\n",
      "---  ------  --------------  -----\n",
      " 0   item    6799 non-null   int64\n",
      " 1   year    6799 non-null   int64\n",
      "dtypes: int64(2)\n",
      "memory usage: 106.4 KB\n"
     ]
    }
   ],
   "source": [
    "years_df = pd.read_csv(os.path.join(data_path, 'years.tsv'), sep='\\t')\n",
    "years_df.info()"
   ]
  },
  {
   "cell_type": "code",
   "execution_count": 20,
   "metadata": {},
   "outputs": [
    {
     "data": {
      "text/html": [
       "<div>\n",
       "<style scoped>\n",
       "    .dataframe tbody tr th:only-of-type {\n",
       "        vertical-align: middle;\n",
       "    }\n",
       "\n",
       "    .dataframe tbody tr th {\n",
       "        vertical-align: top;\n",
       "    }\n",
       "\n",
       "    .dataframe thead th {\n",
       "        text-align: right;\n",
       "    }\n",
       "</style>\n",
       "<table border=\"1\" class=\"dataframe\">\n",
       "  <thead>\n",
       "    <tr style=\"text-align: right;\">\n",
       "      <th></th>\n",
       "      <th>item</th>\n",
       "      <th>year</th>\n",
       "    </tr>\n",
       "  </thead>\n",
       "  <tbody>\n",
       "    <tr>\n",
       "      <th>0</th>\n",
       "      <td>1348</td>\n",
       "      <td>1922</td>\n",
       "    </tr>\n",
       "    <tr>\n",
       "      <th>1</th>\n",
       "      <td>44587</td>\n",
       "      <td>1922</td>\n",
       "    </tr>\n",
       "    <tr>\n",
       "      <th>2</th>\n",
       "      <td>4768</td>\n",
       "      <td>1922</td>\n",
       "    </tr>\n",
       "    <tr>\n",
       "      <th>3</th>\n",
       "      <td>8235</td>\n",
       "      <td>1923</td>\n",
       "    </tr>\n",
       "    <tr>\n",
       "      <th>4</th>\n",
       "      <td>8609</td>\n",
       "      <td>1923</td>\n",
       "    </tr>\n",
       "  </tbody>\n",
       "</table>\n",
       "</div>"
      ],
      "text/plain": [
       "    item  year\n",
       "0   1348  1922\n",
       "1  44587  1922\n",
       "2   4768  1922\n",
       "3   8235  1923\n",
       "4   8609  1923"
      ]
     },
     "execution_count": 20,
     "metadata": {},
     "output_type": "execute_result"
    }
   ],
   "source": [
    "years_df.head()"
   ]
  },
  {
   "cell_type": "code",
   "execution_count": 21,
   "metadata": {},
   "outputs": [
    {
     "name": "stdout",
     "output_type": "stream",
     "text": [
      "NULL 확인\n",
      "item    0\n",
      "year    0\n",
      "dtype: int64\n",
      "---------------------------------------\n",
      "Shape 확인\n",
      "(6799, 2)\n",
      "---------------------------------------\n",
      "unique 확인\n",
      "item: [ 1348 44587  4768  8235  8609 25750 25753  4405  7074  7302]\n",
      "year: [1922 1923 1924 1925 1926 1927 1928 1929 1930 1931]\n",
      "---------------------------------------\n",
      "nunique 확인\n",
      "item: 6799\n",
      "year: 93\n"
     ]
    }
   ],
   "source": [
    "# NULL 확인: 없음\n",
    "print('NULL 확인')\n",
    "print(years_df.isnull().sum())\n",
    "print('---------------------------------------')\n",
    "# Shape: (6799, 2)\n",
    "print('Shape 확인')\n",
    "print(years_df.shape)\n",
    "print('---------------------------------------')\n",
    "# unique 확인\n",
    "print('unique 확인')\n",
    "print(f\"item: {years_df['item'].unique()[:10]}\")\n",
    "print(f\"year: {years_df['year'].unique()[:10]}\")\n",
    "print('---------------------------------------')\n",
    "# unique 확인\n",
    "print('nunique 확인')\n",
    "print(f\"item: {years_df['item'].nunique()}\")\n",
    "print(f\"year: {years_df['year'].nunique()}\")"
   ]
  },
  {
   "cell_type": "code",
   "execution_count": 22,
   "metadata": {},
   "outputs": [
    {
     "name": "stdout",
     "output_type": "stream",
     "text": [
      "연도는 '1922년'부터 '2014년'까지 존재\n"
     ]
    }
   ],
   "source": [
    "print(f\"연도는 '{years_df['year'].min()}년'부터 '{years_df['year'].max()}년'까지 존재\")\n"
   ]
  },
  {
   "cell_type": "code",
   "execution_count": 23,
   "metadata": {},
   "outputs": [
    {
     "data": {
      "image/png": "[encoded data removed]",
      "text/plain": [
       "<Figure size 720x432 with 1 Axes>"
      ]
     },
     "metadata": {
      "needs_background": "light"
     },
     "output_type": "display_data"
    }
   ],
   "source": [
    "sns.set(style=\"darkgrid\")\n",
    "plt.figure(figsize=(10, 6))\n",
    "sns.countplot(data=years_df, x=(years_df['year'] // 10) * 10)\n",
    "plt.xlabel('Decade')\n",
    "plt.ylabel('Frequency')\n",
    "plt.title('Frequency of Years by Decade')\n",
    "plt.show()"
   ]
  },
  {
   "cell_type": "code",
   "execution_count": null,
   "metadata": {},
   "outputs": [],
   "source": []
  }
 ],
 "metadata": {
  "kernelspec": {
   "display_name": "base",
   "language": "python",
   "name": "python3"
  },
  "language_info": {
   "codemirror_mode": {
    "name": "ipython",
    "version": 3
   },
   "file_extension": ".py",
   "mimetype": "text/x-python",
   "name": "python",
   "nbconvert_exporter": "python",
   "pygments_lexer": "ipython3",
   "version": "3.8.5"
  },
  "orig_nbformat": 4
 },
 "nbformat": 4,
 "nbformat_minor": 2
}
